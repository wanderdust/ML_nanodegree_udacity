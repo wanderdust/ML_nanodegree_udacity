{
 "cells": [
  {
   "cell_type": "markdown",
   "metadata": {},
   "source": [
    "# <center>Learning how to play Space Invaders with RL.</center>"
   ]
  },
  {
   "cell_type": "markdown",
   "metadata": {},
   "source": [
    "![space invaders poster image](https://cdn-images-1.medium.com/max/1200/1*Ya6drllhmC82yh0J-elrPA.jpeg)"
   ]
  },
  {
   "cell_type": "code",
   "execution_count": 1,
   "metadata": {},
   "outputs": [
    {
     "name": "stdout",
     "output_type": "stream",
     "text": [
      "[name: \"/device:CPU:0\"\n",
      "device_type: \"CPU\"\n",
      "memory_limit: 268435456\n",
      "locality {\n",
      "}\n",
      "incarnation: 8809172034174092114\n",
      ", name: \"/device:GPU:0\"\n",
      "device_type: \"GPU\"\n",
      "memory_limit: 2644443136\n",
      "locality {\n",
      "  bus_id: 1\n",
      "  links {\n",
      "  }\n",
      "}\n",
      "incarnation: 15289471880300493518\n",
      "physical_device_desc: \"device: 0, name: GeForce GTX 1050, pci bus id: 0000:01:00.0, compute capability: 6.1\"\n",
      "]\n"
     ]
    }
   ],
   "source": [
    "from tensorflow.python.client import device_lib\n",
    "print(device_lib.list_local_devices())"
   ]
  },
  {
   "cell_type": "code",
   "execution_count": 3,
   "metadata": {},
   "outputs": [
    {
     "ename": "ModuleNotFoundError",
     "evalue": "No module named 'dqn.atary_wrappers'",
     "output_type": "error",
     "traceback": [
      "\u001b[0;31m---------------------------------------------------------------------------\u001b[0m",
      "\u001b[0;31mModuleNotFoundError\u001b[0m                       Traceback (most recent call last)",
      "\u001b[0;32m<ipython-input-3-2e28d5373c28>\u001b[0m in \u001b[0;36m<module>\u001b[0;34m\u001b[0m\n\u001b[1;32m      7\u001b[0m \u001b[0;34m\u001b[0m\u001b[0m\n\u001b[1;32m      8\u001b[0m \u001b[0;32mfrom\u001b[0m \u001b[0mgym\u001b[0m\u001b[0;34m.\u001b[0m\u001b[0mwrappers\u001b[0m\u001b[0;34m.\u001b[0m\u001b[0matari_preprocessing\u001b[0m \u001b[0;32mimport\u001b[0m \u001b[0mAtariPreprocessing\u001b[0m\u001b[0;34m\u001b[0m\u001b[0;34m\u001b[0m\u001b[0m\n\u001b[0;32m----> 9\u001b[0;31m \u001b[0;32mfrom\u001b[0m \u001b[0mdqn\u001b[0m\u001b[0;34m.\u001b[0m\u001b[0matary_wrappers\u001b[0m \u001b[0;32mimport\u001b[0m \u001b[0mNoopResetEnv\u001b[0m\u001b[0;34m,\u001b[0m \u001b[0mMaxAndSkipEnv\u001b[0m\u001b[0;34m,\u001b[0m \u001b[0mwrap_deepmind\u001b[0m\u001b[0;34m\u001b[0m\u001b[0;34m\u001b[0m\u001b[0m\n\u001b[0m",
      "\u001b[0;31mModuleNotFoundError\u001b[0m: No module named 'dqn.atary_wrappers'"
     ]
    }
   ],
   "source": [
    "import gym\n",
    "import numpy as np\n",
    "from dqn.model import ModelVanilla\n",
    "from dqn.train import Train \n",
    "from dqn.dqnAgent import DQNAgent\n",
    "import matplotlib.pyplot as plt\n",
    "\n",
    "from gym.wrappers.atari_preprocessing import AtariPreprocessing\n",
    "from dqn.atari_wrappers import NoopResetEnv, MaxAndSkipEnv, wrap_deepmind"
   ]
  },
  {
   "cell_type": "code",
   "execution_count": 10,
   "metadata": {},
   "outputs": [],
   "source": [
    "env = gym.make('SpaceInvaders-v0')\n",
    "\n",
    "env = NoopResetEnv(env)\n",
    "env = MaxAndSkipEnv(env)\n",
    "env = wrap_deepmind(env, episode_life=False, clip_rewards=False, frame_stack=True, scale=False)"
   ]
  },
  {
   "cell_type": "markdown",
   "metadata": {},
   "source": [
    "**Observation space**: the observation space consists on 3 sequential images of size 210x160\n",
    "\n",
    "**Action space**: there are 6 possible actions: *left, right, shoot, left-shoot, right-shoot, do nothing*."
   ]
  },
  {
   "cell_type": "code",
   "execution_count": 11,
   "metadata": {
    "scrolled": false
   },
   "outputs": [
    {
     "name": "stdout",
     "output_type": "stream",
     "text": [
      "(84, 84, 4)\n",
      "Discrete(6)\n"
     ]
    }
   ],
   "source": [
    "print(env.observation_space.shape)\n",
    "print(env.action_space)"
   ]
  },
  {
   "cell_type": "markdown",
   "metadata": {},
   "source": [
    "### Agent acting randomly"
   ]
  },
  {
   "cell_type": "code",
   "execution_count": 12,
   "metadata": {},
   "outputs": [
    {
     "name": "stderr",
     "output_type": "stream",
     "text": [
      "100%|██████████| 500/500 [02:47<00:00,  2.44it/s]"
     ]
    },
    {
     "name": "stdout",
     "output_type": "stream",
     "text": [
      "Average score over a 500 episodes: 143.33\n"
     ]
    },
    {
     "name": "stderr",
     "output_type": "stream",
     "text": [
      "\n"
     ]
    }
   ],
   "source": [
    "from tqdm import tqdm\n",
    "\n",
    "reward_random = []\n",
    "\n",
    "for i in tqdm(range(500)):\n",
    "    total_reward = 0\n",
    "    env.reset()\n",
    "    while True:\n",
    "        #env.render()\n",
    "        next_state, reward, done, info = env.step((env.action_space.sample())) # select random action\n",
    "        total_reward += reward\n",
    "        if done:\n",
    "            reward_random.append(total_reward)\n",
    "            break\n",
    "\n",
    "    env.close()\n",
    "    \n",
    "print(\"Average score over a {} episodes: {}\".format(500, np.asarray(reward_random).mean()))"
   ]
  },
  {
   "cell_type": "markdown",
   "metadata": {},
   "source": [
    "### State sequence\n",
    "\n",
    "Each state will look like a sequence of 4 frames. Every frame is cropped and preprocessed for faster and more efficient computations."
   ]
  },
  {
   "cell_type": "code",
   "execution_count": 13,
   "metadata": {},
   "outputs": [
    {
     "name": "stdout",
     "output_type": "stream",
     "text": [
      "(4, 84, 84)\n"
     ]
    },
    {
     "data": {
      "image/png": "[encoded data removed]",
      "text/plain": [
       "<Figure size 864x288 with 4 Axes>"
      ]
     },
     "metadata": {
      "needs_background": "light"
     },
     "output_type": "display_data"
    }
   ],
   "source": [
    "#env.reset()\n",
    "\n",
    "# Create a new state\n",
    "next_state, reward, done, info = env.step((env.action_space.sample())) # select random action\n",
    "\n",
    "print(np.asarray(next_state).transpose(2, 0, 1).shape)\n",
    "# Plot the state\n",
    "fig, axes = plt.subplots(1, 4, figsize=(12, 4))\n",
    "ax = axes.ravel()\n",
    "\n",
    "for i, frame in enumerate(np.asarray(next_state).transpose(2, 0, 1)):\n",
    "    ax[i].imshow(frame)"
   ]
  },
  {
   "cell_type": "markdown",
   "metadata": {},
   "source": [
    "### Establishing a benchmark\n",
    "\n",
    "I'll be using two benchmarks:\n",
    "* The performance of an agent without training over 100 games\n",
    "* The performance of a human\n",
    "    * My avg performance over 50 games: 520\n",
    "    * Avg performance of profesional tester according to DeepMind's Paper: 1652"
   ]
  },
  {
   "cell_type": "code",
   "execution_count": 14,
   "metadata": {},
   "outputs": [
    {
     "name": "stderr",
     "output_type": "stream",
     "text": [
      " score: 390.0: 100%|██████████| 500/500 [02:48<00:00,  2.54it/s]"
     ]
    },
    {
     "name": "stdout",
     "output_type": "stream",
     "text": [
      "Average score: 137.64\n"
     ]
    },
    {
     "name": "stderr",
     "output_type": "stream",
     "text": [
      "\n"
     ]
    },
    {
     "data": {
      "image/png": "[encoded data removed]",
      "text/plain": [
       "<Figure size 432x288 with 1 Axes>"
      ]
     },
     "metadata": {
      "needs_background": "light"
     },
     "output_type": "display_data"
    }
   ],
   "source": [
    "episodes_eval = 500\n",
    "agent_bench = DQNAgent()\n",
    "benchmark = Train(env, agent_bench)\n",
    "\n",
    "# Evaluate performance\n",
    "benchmark.train(episodes_eval, learn=False, render=False)\n",
    "\n",
    "# Plot rewards\n",
    "benchmark.plot_rewards()"
   ]
  },
  {
   "cell_type": "markdown",
   "metadata": {},
   "source": [
    "## Training"
   ]
  },
  {
   "cell_type": "code",
   "execution_count": null,
   "metadata": {},
   "outputs": [
    {
     "name": "stderr",
     "output_type": "stream",
     "text": [
      " score: 75.0:   0%|          | 20/20000 [00:18<4:36:49,  1.20it/s]   "
     ]
    }
   ],
   "source": [
    "episodes_train = 20000\n",
    "agent_train = DQNAgent(dueling=False)\n",
    "# Load existing saved weights\n",
    "# Comment if don't want to load pre-trained weights\n",
    "#agent_train.load_weights('best_model_dueling')\n",
    "\n",
    "train = Train(env, agent_train)\n",
    "# Train the agent\n",
    "train.train(episodes_train, learn=True, render=False)\n",
    "\n",
    "# Plot rewards\n",
    "train.plot_rewards(mean_avg=10)\n",
    "train.plot_rewards(mean_avg=50)\n",
    "train.plot_rewards(mean_avg=100)"
   ]
  },
  {
   "cell_type": "code",
   "execution_count": null,
   "metadata": {},
   "outputs": [],
   "source": [
    "train.load_rewards()\n",
    "\n",
    "# Plot rewards\n",
    "train.plot_rewards(mean_avg=10)\n",
    "train.plot_rewards(mean_avg=50)\n",
    "train.plot_rewards(mean_avg=100)"
   ]
  },
  {
   "cell_type": "code",
   "execution_count": null,
   "metadata": {},
   "outputs": [],
   "source": [
    "# Evaluate the trained agent\n",
    "episodes_eval = 500\n",
    "\n",
    "# agent_trained = train.agent\n",
    "agent_trained = DQNAgent(dueling=False)\n",
    "agent_trained.load_weights('vanilla')\n",
    "evaluation = Train(env, agent_trained)\n",
    "\n",
    "# Evaluate performance\n",
    "evaluation.train(episodes_eval, learn=False, render=False, monitor=True)\n",
    "\n",
    "# Plot rewards\n",
    "evaluation.plot_rewards(mean_avg=10)"
   ]
  },
  {
   "cell_type": "code",
   "execution_count": null,
   "metadata": {},
   "outputs": [],
   "source": [
    "train.rewards"
   ]
  },
  {
   "cell_type": "code",
   "execution_count": null,
   "metadata": {},
   "outputs": [],
   "source": []
  }
 ],
 "metadata": {
  "kernelspec": {
   "display_name": "Python 3",
   "language": "python",
   "name": "python3"
  },
  "language_info": {
   "codemirror_mode": {
    "name": "ipython",
    "version": 3
   },
   "file_extension": ".py",
   "mimetype": "text/x-python",
   "name": "python",
   "nbconvert_exporter": "python",
   "pygments_lexer": "ipython3",
   "version": "3.6.8"
  }
 },
 "nbformat": 4,
 "nbformat_minor": 2
}
