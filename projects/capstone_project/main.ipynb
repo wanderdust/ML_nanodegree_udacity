{
 "cells": [
  {
   "cell_type": "markdown",
   "metadata": {},
   "source": [
    "# <center>Learning how to play Space Invaders with RL.</center>"
   ]
  },
  {
   "cell_type": "markdown",
   "metadata": {},
   "source": [
    "![space invaders poster image](https://cdn-images-1.medium.com/max/1200/1*Ya6drllhmC82yh0J-elrPA.jpeg)"
   ]
  },
  {
   "cell_type": "code",
   "execution_count": 1,
   "metadata": {},
   "outputs": [
    {
     "name": "stdout",
     "output_type": "stream",
     "text": [
      "[name: \"/device:CPU:0\"\n",
      "device_type: \"CPU\"\n",
      "memory_limit: 268435456\n",
      "locality {\n",
      "}\n",
      "incarnation: 17445191395011584328\n",
      ", name: \"/device:GPU:0\"\n",
      "device_type: \"GPU\"\n",
      "memory_limit: 3340500992\n",
      "locality {\n",
      "  bus_id: 1\n",
      "  links {\n",
      "  }\n",
      "}\n",
      "incarnation: 6213361498830098811\n",
      "physical_device_desc: \"device: 0, name: GeForce GTX 1050, pci bus id: 0000:01:00.0, compute capability: 6.1\"\n",
      "]\n"
     ]
    }
   ],
   "source": [
    "from tensorflow.python.client import device_lib\n",
    "print(device_lib.list_local_devices())"
   ]
  },
  {
   "cell_type": "code",
   "execution_count": 2,
   "metadata": {},
   "outputs": [
    {
     "name": "stderr",
     "output_type": "stream",
     "text": [
      "Using TensorFlow backend.\n"
     ]
    }
   ],
   "source": [
    "import gym\n",
    "import numpy as np\n",
    "from dqn.model import Model\n",
    "from dqn.train import Train \n",
    "from dqn.dqnAgent import DQNAgent\n",
    "import matplotlib.pyplot as plt\n",
    "\n",
    "from gym.wrappers.atari_preprocessing import AtariPreprocessing\n",
    "from baselines.common.atari_wrappers import NoopResetEnv, MaxAndSkipEnv, wrap_deepmind"
   ]
  },
  {
   "cell_type": "code",
   "execution_count": 3,
   "metadata": {},
   "outputs": [],
   "source": [
    "env = gym.make('SpaceInvaders-v0')\n",
    "\n",
    "env = NoopResetEnv(env)\n",
    "env = MaxAndSkipEnv(env)\n",
    "env = wrap_deepmind(env, episode_life=False, clip_rewards=True, frame_stack=True, scale=False)"
   ]
  },
  {
   "cell_type": "markdown",
   "metadata": {},
   "source": [
    "**Observation space**: the observation space consists on 3 sequential images of size 210x160\n",
    "\n",
    "**Action space**: there are 6 possible actions: *left, right, shoot, left-shoot, right-shoot, do nothing*."
   ]
  },
  {
   "cell_type": "code",
   "execution_count": 4,
   "metadata": {
    "scrolled": false
   },
   "outputs": [
    {
     "name": "stdout",
     "output_type": "stream",
     "text": [
      "(84, 84, 4)\n",
      "Discrete(6)\n"
     ]
    }
   ],
   "source": [
    "print(env.observation_space.shape)\n",
    "print(env.action_space)"
   ]
  },
  {
   "cell_type": "markdown",
   "metadata": {},
   "source": [
    "### Agent acting randomly"
   ]
  },
  {
   "cell_type": "code",
   "execution_count": 5,
   "metadata": {},
   "outputs": [
    {
     "name": "stdout",
     "output_type": "stream",
     "text": [
      "7.0\n"
     ]
    }
   ],
   "source": [
    "# Example of how env works\n",
    "total_reward = 0\n",
    "env.reset()\n",
    "while True:\n",
    "    env.render()\n",
    "    next_state, reward, done, info = env.step((env.action_space.sample())) # select random action\n",
    "    total_reward += reward\n",
    "    if done:\n",
    "        print(total_reward)\n",
    "        break\n",
    "        \n",
    "env.close()"
   ]
  },
  {
   "cell_type": "markdown",
   "metadata": {},
   "source": [
    "### State sequence\n",
    "\n",
    "Each state will look like a sequence of 4 frames. Every frame is cropped and preprocessed for faster and more efficient computations."
   ]
  },
  {
   "cell_type": "code",
   "execution_count": 6,
   "metadata": {},
   "outputs": [
    {
     "name": "stdout",
     "output_type": "stream",
     "text": [
      "(4, 84, 84)\n"
     ]
    },
    {
     "data": {
      "image/png": "[encoded data removed]",
      "text/plain": [
       "<Figure size 864x288 with 4 Axes>"
      ]
     },
     "metadata": {
      "needs_background": "light"
     },
     "output_type": "display_data"
    }
   ],
   "source": [
    "env.reset()\n",
    "\n",
    "# Create a new state\n",
    "next_state, reward, done, info = env.step((env.action_space.sample())) # select random action\n",
    "\n",
    "print(np.asarray(next_state).transpose(2, 0, 1).shape)\n",
    "# Plot the state\n",
    "fig, axes = plt.subplots(1, 4, figsize=(12, 4))\n",
    "ax = axes.ravel()\n",
    "\n",
    "for i, frame in enumerate(np.asarray(next_state).transpose(2, 0, 1)):\n",
    "    ax[i].imshow(frame)"
   ]
  },
  {
   "cell_type": "markdown",
   "metadata": {},
   "source": [
    "### Establishing a benchmark\n",
    "\n",
    "I'll be using two benchmarks:\n",
    "* The performance of an agent without training over 60 games\n",
    "* The performance of a human"
   ]
  },
  {
   "cell_type": "code",
   "execution_count": 9,
   "metadata": {},
   "outputs": [
    {
     "name": "stderr",
     "output_type": "stream",
     "text": [
      "episode: 13, score: 7.0:  22%|██▏       | 13/60 [00:04<00:15,  3.01it/s] "
     ]
    },
    {
     "ename": "KeyboardInterrupt",
     "evalue": "",
     "output_type": "error",
     "traceback": [
      "\u001b[0;31m---------------------------------------------------------------------------\u001b[0m",
      "\u001b[0;31mKeyboardInterrupt\u001b[0m                         Traceback (most recent call last)",
      "\u001b[0;32m<ipython-input-9-f65d0d402057>\u001b[0m in \u001b[0;36m<module>\u001b[0;34m\u001b[0m\n\u001b[1;32m      4\u001b[0m \u001b[0;34m\u001b[0m\u001b[0m\n\u001b[1;32m      5\u001b[0m \u001b[0;31m# Evaluate performance\u001b[0m\u001b[0;34m\u001b[0m\u001b[0;34m\u001b[0m\u001b[0;34m\u001b[0m\u001b[0m\n\u001b[0;32m----> 6\u001b[0;31m \u001b[0mbenchmark\u001b[0m\u001b[0;34m.\u001b[0m\u001b[0mtrain\u001b[0m\u001b[0;34m(\u001b[0m\u001b[0mepisodes_eval\u001b[0m\u001b[0;34m,\u001b[0m \u001b[0mlearn\u001b[0m\u001b[0;34m=\u001b[0m\u001b[0;32mFalse\u001b[0m\u001b[0;34m,\u001b[0m \u001b[0mrender\u001b[0m\u001b[0;34m=\u001b[0m\u001b[0;32mFalse\u001b[0m\u001b[0;34m)\u001b[0m\u001b[0;34m\u001b[0m\u001b[0;34m\u001b[0m\u001b[0m\n\u001b[0m\u001b[1;32m      7\u001b[0m \u001b[0;34m\u001b[0m\u001b[0m\n\u001b[1;32m      8\u001b[0m \u001b[0;31m# Plot rewards\u001b[0m\u001b[0;34m\u001b[0m\u001b[0;34m\u001b[0m\u001b[0;34m\u001b[0m\u001b[0m\n",
      "\u001b[0;32m~/Desktop/ML_nanodegree_udacity/projects/capstone_project/dqn/train.py\u001b[0m in \u001b[0;36mtrain\u001b[0;34m(self, episodes, learn, render)\u001b[0m\n\u001b[1;32m     26\u001b[0m \u001b[0;34m\u001b[0m\u001b[0m\n\u001b[1;32m     27\u001b[0m           \u001b[0maction\u001b[0m \u001b[0;34m=\u001b[0m \u001b[0mself\u001b[0m\u001b[0;34m.\u001b[0m\u001b[0magent\u001b[0m\u001b[0;34m.\u001b[0m\u001b[0mact\u001b[0m\u001b[0;34m(\u001b[0m\u001b[0mstate\u001b[0m\u001b[0;34m)\u001b[0m\u001b[0;34m\u001b[0m\u001b[0;34m\u001b[0m\u001b[0m\n\u001b[0;32m---> 28\u001b[0;31m           \u001b[0mnext_state\u001b[0m\u001b[0;34m,\u001b[0m \u001b[0mreward\u001b[0m\u001b[0;34m,\u001b[0m \u001b[0mdone\u001b[0m\u001b[0;34m,\u001b[0m \u001b[0minfo\u001b[0m \u001b[0;34m=\u001b[0m \u001b[0mself\u001b[0m\u001b[0;34m.\u001b[0m\u001b[0menv\u001b[0m\u001b[0;34m.\u001b[0m\u001b[0mstep\u001b[0m\u001b[0;34m(\u001b[0m\u001b[0maction\u001b[0m\u001b[0;34m)\u001b[0m\u001b[0;34m\u001b[0m\u001b[0;34m\u001b[0m\u001b[0m\n\u001b[0m\u001b[1;32m     29\u001b[0m           \u001b[0mnext_state\u001b[0m \u001b[0;34m=\u001b[0m \u001b[0mModel\u001b[0m\u001b[0;34m.\u001b[0m\u001b[0mstate_to_tensor\u001b[0m\u001b[0;34m(\u001b[0m\u001b[0mnext_state\u001b[0m\u001b[0;34m)\u001b[0m\u001b[0;34m\u001b[0m\u001b[0;34m\u001b[0m\u001b[0m\n\u001b[1;32m     30\u001b[0m \u001b[0;34m\u001b[0m\u001b[0m\n",
      "\u001b[0;32m~/anaconda3/lib/python3.6/site-packages/baselines/common/atari_wrappers.py\u001b[0m in \u001b[0;36mstep\u001b[0;34m(self, action)\u001b[0m\n\u001b[1;32m    167\u001b[0m \u001b[0;34m\u001b[0m\u001b[0m\n\u001b[1;32m    168\u001b[0m     \u001b[0;32mdef\u001b[0m \u001b[0mstep\u001b[0m\u001b[0;34m(\u001b[0m\u001b[0mself\u001b[0m\u001b[0;34m,\u001b[0m \u001b[0maction\u001b[0m\u001b[0;34m)\u001b[0m\u001b[0;34m:\u001b[0m\u001b[0;34m\u001b[0m\u001b[0;34m\u001b[0m\u001b[0m\n\u001b[0;32m--> 169\u001b[0;31m         \u001b[0mob\u001b[0m\u001b[0;34m,\u001b[0m \u001b[0mreward\u001b[0m\u001b[0;34m,\u001b[0m \u001b[0mdone\u001b[0m\u001b[0;34m,\u001b[0m \u001b[0minfo\u001b[0m \u001b[0;34m=\u001b[0m \u001b[0mself\u001b[0m\u001b[0;34m.\u001b[0m\u001b[0menv\u001b[0m\u001b[0;34m.\u001b[0m\u001b[0mstep\u001b[0m\u001b[0;34m(\u001b[0m\u001b[0maction\u001b[0m\u001b[0;34m)\u001b[0m\u001b[0;34m\u001b[0m\u001b[0;34m\u001b[0m\u001b[0m\n\u001b[0m\u001b[1;32m    170\u001b[0m         \u001b[0mself\u001b[0m\u001b[0;34m.\u001b[0m\u001b[0mframes\u001b[0m\u001b[0;34m.\u001b[0m\u001b[0mappend\u001b[0m\u001b[0;34m(\u001b[0m\u001b[0mob\u001b[0m\u001b[0;34m)\u001b[0m\u001b[0;34m\u001b[0m\u001b[0;34m\u001b[0m\u001b[0m\n\u001b[1;32m    171\u001b[0m         \u001b[0;32mreturn\u001b[0m \u001b[0mself\u001b[0m\u001b[0;34m.\u001b[0m\u001b[0m_get_ob\u001b[0m\u001b[0;34m(\u001b[0m\u001b[0;34m)\u001b[0m\u001b[0;34m,\u001b[0m \u001b[0mreward\u001b[0m\u001b[0;34m,\u001b[0m \u001b[0mdone\u001b[0m\u001b[0;34m,\u001b[0m \u001b[0minfo\u001b[0m\u001b[0;34m\u001b[0m\u001b[0;34m\u001b[0m\u001b[0m\n",
      "\u001b[0;32m~/anaconda3/lib/python3.6/site-packages/gym/core.py\u001b[0m in \u001b[0;36mstep\u001b[0;34m(self, action)\u001b[0m\n\u001b[1;32m    268\u001b[0m \u001b[0;34m\u001b[0m\u001b[0m\n\u001b[1;32m    269\u001b[0m     \u001b[0;32mdef\u001b[0m \u001b[0mstep\u001b[0m\u001b[0;34m(\u001b[0m\u001b[0mself\u001b[0m\u001b[0;34m,\u001b[0m \u001b[0maction\u001b[0m\u001b[0;34m)\u001b[0m\u001b[0;34m:\u001b[0m\u001b[0;34m\u001b[0m\u001b[0;34m\u001b[0m\u001b[0m\n\u001b[0;32m--> 270\u001b[0;31m         \u001b[0mobservation\u001b[0m\u001b[0;34m,\u001b[0m \u001b[0mreward\u001b[0m\u001b[0;34m,\u001b[0m \u001b[0mdone\u001b[0m\u001b[0;34m,\u001b[0m \u001b[0minfo\u001b[0m \u001b[0;34m=\u001b[0m \u001b[0mself\u001b[0m\u001b[0;34m.\u001b[0m\u001b[0menv\u001b[0m\u001b[0;34m.\u001b[0m\u001b[0mstep\u001b[0m\u001b[0;34m(\u001b[0m\u001b[0maction\u001b[0m\u001b[0;34m)\u001b[0m\u001b[0;34m\u001b[0m\u001b[0;34m\u001b[0m\u001b[0m\n\u001b[0m\u001b[1;32m    271\u001b[0m         \u001b[0;32mreturn\u001b[0m \u001b[0mobservation\u001b[0m\u001b[0;34m,\u001b[0m \u001b[0mself\u001b[0m\u001b[0;34m.\u001b[0m\u001b[0mreward\u001b[0m\u001b[0;34m(\u001b[0m\u001b[0mreward\u001b[0m\u001b[0;34m)\u001b[0m\u001b[0;34m,\u001b[0m \u001b[0mdone\u001b[0m\u001b[0;34m,\u001b[0m \u001b[0minfo\u001b[0m\u001b[0;34m\u001b[0m\u001b[0;34m\u001b[0m\u001b[0m\n\u001b[1;32m    272\u001b[0m \u001b[0;34m\u001b[0m\u001b[0m\n",
      "\u001b[0;32m~/anaconda3/lib/python3.6/site-packages/gym/core.py\u001b[0m in \u001b[0;36mstep\u001b[0;34m(self, action)\u001b[0m\n\u001b[1;32m    256\u001b[0m \u001b[0;34m\u001b[0m\u001b[0m\n\u001b[1;32m    257\u001b[0m     \u001b[0;32mdef\u001b[0m \u001b[0mstep\u001b[0m\u001b[0;34m(\u001b[0m\u001b[0mself\u001b[0m\u001b[0;34m,\u001b[0m \u001b[0maction\u001b[0m\u001b[0;34m)\u001b[0m\u001b[0;34m:\u001b[0m\u001b[0;34m\u001b[0m\u001b[0;34m\u001b[0m\u001b[0m\n\u001b[0;32m--> 258\u001b[0;31m         \u001b[0mobservation\u001b[0m\u001b[0;34m,\u001b[0m \u001b[0mreward\u001b[0m\u001b[0;34m,\u001b[0m \u001b[0mdone\u001b[0m\u001b[0;34m,\u001b[0m \u001b[0minfo\u001b[0m \u001b[0;34m=\u001b[0m \u001b[0mself\u001b[0m\u001b[0;34m.\u001b[0m\u001b[0menv\u001b[0m\u001b[0;34m.\u001b[0m\u001b[0mstep\u001b[0m\u001b[0;34m(\u001b[0m\u001b[0maction\u001b[0m\u001b[0;34m)\u001b[0m\u001b[0;34m\u001b[0m\u001b[0;34m\u001b[0m\u001b[0m\n\u001b[0m\u001b[1;32m    259\u001b[0m         \u001b[0;32mreturn\u001b[0m \u001b[0mself\u001b[0m\u001b[0;34m.\u001b[0m\u001b[0mobservation\u001b[0m\u001b[0;34m(\u001b[0m\u001b[0mobservation\u001b[0m\u001b[0;34m)\u001b[0m\u001b[0;34m,\u001b[0m \u001b[0mreward\u001b[0m\u001b[0;34m,\u001b[0m \u001b[0mdone\u001b[0m\u001b[0;34m,\u001b[0m \u001b[0minfo\u001b[0m\u001b[0;34m\u001b[0m\u001b[0;34m\u001b[0m\u001b[0m\n\u001b[1;32m    260\u001b[0m \u001b[0;34m\u001b[0m\u001b[0m\n",
      "\u001b[0;32m~/anaconda3/lib/python3.6/site-packages/baselines/common/atari_wrappers.py\u001b[0m in \u001b[0;36mstep\u001b[0;34m(self, ac)\u001b[0m\n\u001b[1;32m     53\u001b[0m \u001b[0;34m\u001b[0m\u001b[0m\n\u001b[1;32m     54\u001b[0m     \u001b[0;32mdef\u001b[0m \u001b[0mstep\u001b[0m\u001b[0;34m(\u001b[0m\u001b[0mself\u001b[0m\u001b[0;34m,\u001b[0m \u001b[0mac\u001b[0m\u001b[0;34m)\u001b[0m\u001b[0;34m:\u001b[0m\u001b[0;34m\u001b[0m\u001b[0;34m\u001b[0m\u001b[0m\n\u001b[0;32m---> 55\u001b[0;31m         \u001b[0;32mreturn\u001b[0m \u001b[0mself\u001b[0m\u001b[0;34m.\u001b[0m\u001b[0menv\u001b[0m\u001b[0;34m.\u001b[0m\u001b[0mstep\u001b[0m\u001b[0;34m(\u001b[0m\u001b[0mac\u001b[0m\u001b[0;34m)\u001b[0m\u001b[0;34m\u001b[0m\u001b[0;34m\u001b[0m\u001b[0m\n\u001b[0m\u001b[1;32m     56\u001b[0m \u001b[0;34m\u001b[0m\u001b[0m\n\u001b[1;32m     57\u001b[0m \u001b[0;32mclass\u001b[0m \u001b[0mEpisodicLifeEnv\u001b[0m\u001b[0;34m(\u001b[0m\u001b[0mgym\u001b[0m\u001b[0;34m.\u001b[0m\u001b[0mWrapper\u001b[0m\u001b[0;34m)\u001b[0m\u001b[0;34m:\u001b[0m\u001b[0;34m\u001b[0m\u001b[0;34m\u001b[0m\u001b[0m\n",
      "\u001b[0;32m~/anaconda3/lib/python3.6/site-packages/baselines/common/atari_wrappers.py\u001b[0m in \u001b[0;36mstep\u001b[0;34m(self, action)\u001b[0m\n\u001b[1;32m    107\u001b[0m         \u001b[0mdone\u001b[0m \u001b[0;34m=\u001b[0m \u001b[0;32mNone\u001b[0m\u001b[0;34m\u001b[0m\u001b[0;34m\u001b[0m\u001b[0m\n\u001b[1;32m    108\u001b[0m         \u001b[0;32mfor\u001b[0m \u001b[0mi\u001b[0m \u001b[0;32min\u001b[0m \u001b[0mrange\u001b[0m\u001b[0;34m(\u001b[0m\u001b[0mself\u001b[0m\u001b[0;34m.\u001b[0m\u001b[0m_skip\u001b[0m\u001b[0;34m)\u001b[0m\u001b[0;34m:\u001b[0m\u001b[0;34m\u001b[0m\u001b[0;34m\u001b[0m\u001b[0m\n\u001b[0;32m--> 109\u001b[0;31m             \u001b[0mobs\u001b[0m\u001b[0;34m,\u001b[0m \u001b[0mreward\u001b[0m\u001b[0;34m,\u001b[0m \u001b[0mdone\u001b[0m\u001b[0;34m,\u001b[0m \u001b[0minfo\u001b[0m \u001b[0;34m=\u001b[0m \u001b[0mself\u001b[0m\u001b[0;34m.\u001b[0m\u001b[0menv\u001b[0m\u001b[0;34m.\u001b[0m\u001b[0mstep\u001b[0m\u001b[0;34m(\u001b[0m\u001b[0maction\u001b[0m\u001b[0;34m)\u001b[0m\u001b[0;34m\u001b[0m\u001b[0;34m\u001b[0m\u001b[0m\n\u001b[0m\u001b[1;32m    110\u001b[0m             \u001b[0;32mif\u001b[0m \u001b[0mi\u001b[0m \u001b[0;34m==\u001b[0m \u001b[0mself\u001b[0m\u001b[0;34m.\u001b[0m\u001b[0m_skip\u001b[0m \u001b[0;34m-\u001b[0m \u001b[0;36m2\u001b[0m\u001b[0;34m:\u001b[0m \u001b[0mself\u001b[0m\u001b[0;34m.\u001b[0m\u001b[0m_obs_buffer\u001b[0m\u001b[0;34m[\u001b[0m\u001b[0;36m0\u001b[0m\u001b[0;34m]\u001b[0m \u001b[0;34m=\u001b[0m \u001b[0mobs\u001b[0m\u001b[0;34m\u001b[0m\u001b[0;34m\u001b[0m\u001b[0m\n\u001b[1;32m    111\u001b[0m             \u001b[0;32mif\u001b[0m \u001b[0mi\u001b[0m \u001b[0;34m==\u001b[0m \u001b[0mself\u001b[0m\u001b[0;34m.\u001b[0m\u001b[0m_skip\u001b[0m \u001b[0;34m-\u001b[0m \u001b[0;36m1\u001b[0m\u001b[0;34m:\u001b[0m \u001b[0mself\u001b[0m\u001b[0;34m.\u001b[0m\u001b[0m_obs_buffer\u001b[0m\u001b[0;34m[\u001b[0m\u001b[0;36m1\u001b[0m\u001b[0;34m]\u001b[0m \u001b[0;34m=\u001b[0m \u001b[0mobs\u001b[0m\u001b[0;34m\u001b[0m\u001b[0;34m\u001b[0m\u001b[0m\n",
      "\u001b[0;32m~/anaconda3/lib/python3.6/site-packages/baselines/common/atari_wrappers.py\u001b[0m in \u001b[0;36mstep\u001b[0;34m(self, ac)\u001b[0m\n\u001b[1;32m     33\u001b[0m \u001b[0;34m\u001b[0m\u001b[0m\n\u001b[1;32m     34\u001b[0m     \u001b[0;32mdef\u001b[0m \u001b[0mstep\u001b[0m\u001b[0;34m(\u001b[0m\u001b[0mself\u001b[0m\u001b[0;34m,\u001b[0m \u001b[0mac\u001b[0m\u001b[0;34m)\u001b[0m\u001b[0;34m:\u001b[0m\u001b[0;34m\u001b[0m\u001b[0;34m\u001b[0m\u001b[0m\n\u001b[0;32m---> 35\u001b[0;31m         \u001b[0;32mreturn\u001b[0m \u001b[0mself\u001b[0m\u001b[0;34m.\u001b[0m\u001b[0menv\u001b[0m\u001b[0;34m.\u001b[0m\u001b[0mstep\u001b[0m\u001b[0;34m(\u001b[0m\u001b[0mac\u001b[0m\u001b[0;34m)\u001b[0m\u001b[0;34m\u001b[0m\u001b[0;34m\u001b[0m\u001b[0m\n\u001b[0m\u001b[1;32m     36\u001b[0m \u001b[0;34m\u001b[0m\u001b[0m\n\u001b[1;32m     37\u001b[0m \u001b[0;32mclass\u001b[0m \u001b[0mFireResetEnv\u001b[0m\u001b[0;34m(\u001b[0m\u001b[0mgym\u001b[0m\u001b[0;34m.\u001b[0m\u001b[0mWrapper\u001b[0m\u001b[0;34m)\u001b[0m\u001b[0;34m:\u001b[0m\u001b[0;34m\u001b[0m\u001b[0;34m\u001b[0m\u001b[0m\n",
      "\u001b[0;32m~/anaconda3/lib/python3.6/site-packages/gym/wrappers/time_limit.py\u001b[0m in \u001b[0;36mstep\u001b[0;34m(self, action)\u001b[0m\n\u001b[1;32m     13\u001b[0m     \u001b[0;32mdef\u001b[0m \u001b[0mstep\u001b[0m\u001b[0;34m(\u001b[0m\u001b[0mself\u001b[0m\u001b[0;34m,\u001b[0m \u001b[0maction\u001b[0m\u001b[0;34m)\u001b[0m\u001b[0;34m:\u001b[0m\u001b[0;34m\u001b[0m\u001b[0;34m\u001b[0m\u001b[0m\n\u001b[1;32m     14\u001b[0m         \u001b[0;32massert\u001b[0m \u001b[0mself\u001b[0m\u001b[0;34m.\u001b[0m\u001b[0m_elapsed_steps\u001b[0m \u001b[0;32mis\u001b[0m \u001b[0;32mnot\u001b[0m \u001b[0;32mNone\u001b[0m\u001b[0;34m,\u001b[0m \u001b[0;34m\"Cannot call env.step() before calling reset()\"\u001b[0m\u001b[0;34m\u001b[0m\u001b[0;34m\u001b[0m\u001b[0m\n\u001b[0;32m---> 15\u001b[0;31m         \u001b[0mobservation\u001b[0m\u001b[0;34m,\u001b[0m \u001b[0mreward\u001b[0m\u001b[0;34m,\u001b[0m \u001b[0mdone\u001b[0m\u001b[0;34m,\u001b[0m \u001b[0minfo\u001b[0m \u001b[0;34m=\u001b[0m \u001b[0mself\u001b[0m\u001b[0;34m.\u001b[0m\u001b[0menv\u001b[0m\u001b[0;34m.\u001b[0m\u001b[0mstep\u001b[0m\u001b[0;34m(\u001b[0m\u001b[0maction\u001b[0m\u001b[0;34m)\u001b[0m\u001b[0;34m\u001b[0m\u001b[0;34m\u001b[0m\u001b[0m\n\u001b[0m\u001b[1;32m     16\u001b[0m         \u001b[0mself\u001b[0m\u001b[0;34m.\u001b[0m\u001b[0m_elapsed_steps\u001b[0m \u001b[0;34m+=\u001b[0m \u001b[0;36m1\u001b[0m\u001b[0;34m\u001b[0m\u001b[0;34m\u001b[0m\u001b[0m\n\u001b[1;32m     17\u001b[0m         \u001b[0;32mif\u001b[0m \u001b[0mself\u001b[0m\u001b[0;34m.\u001b[0m\u001b[0m_elapsed_steps\u001b[0m \u001b[0;34m>=\u001b[0m \u001b[0mself\u001b[0m\u001b[0;34m.\u001b[0m\u001b[0m_max_episode_steps\u001b[0m\u001b[0;34m:\u001b[0m\u001b[0;34m\u001b[0m\u001b[0;34m\u001b[0m\u001b[0m\n",
      "\u001b[0;32m~/anaconda3/lib/python3.6/site-packages/gym/envs/atari/atari_env.py\u001b[0m in \u001b[0;36mstep\u001b[0;34m(self, a)\u001b[0m\n\u001b[1;32m     93\u001b[0m             \u001b[0mnum_steps\u001b[0m \u001b[0;34m=\u001b[0m \u001b[0mself\u001b[0m\u001b[0;34m.\u001b[0m\u001b[0mnp_random\u001b[0m\u001b[0;34m.\u001b[0m\u001b[0mrandint\u001b[0m\u001b[0;34m(\u001b[0m\u001b[0mself\u001b[0m\u001b[0;34m.\u001b[0m\u001b[0mframeskip\u001b[0m\u001b[0;34m[\u001b[0m\u001b[0;36m0\u001b[0m\u001b[0;34m]\u001b[0m\u001b[0;34m,\u001b[0m \u001b[0mself\u001b[0m\u001b[0;34m.\u001b[0m\u001b[0mframeskip\u001b[0m\u001b[0;34m[\u001b[0m\u001b[0;36m1\u001b[0m\u001b[0;34m]\u001b[0m\u001b[0;34m)\u001b[0m\u001b[0;34m\u001b[0m\u001b[0;34m\u001b[0m\u001b[0m\n\u001b[1;32m     94\u001b[0m         \u001b[0;32mfor\u001b[0m \u001b[0m_\u001b[0m \u001b[0;32min\u001b[0m \u001b[0mrange\u001b[0m\u001b[0;34m(\u001b[0m\u001b[0mnum_steps\u001b[0m\u001b[0;34m)\u001b[0m\u001b[0;34m:\u001b[0m\u001b[0;34m\u001b[0m\u001b[0;34m\u001b[0m\u001b[0m\n\u001b[0;32m---> 95\u001b[0;31m             \u001b[0mreward\u001b[0m \u001b[0;34m+=\u001b[0m \u001b[0mself\u001b[0m\u001b[0;34m.\u001b[0m\u001b[0male\u001b[0m\u001b[0;34m.\u001b[0m\u001b[0mact\u001b[0m\u001b[0;34m(\u001b[0m\u001b[0maction\u001b[0m\u001b[0;34m)\u001b[0m\u001b[0;34m\u001b[0m\u001b[0;34m\u001b[0m\u001b[0m\n\u001b[0m\u001b[1;32m     96\u001b[0m         \u001b[0mob\u001b[0m \u001b[0;34m=\u001b[0m \u001b[0mself\u001b[0m\u001b[0;34m.\u001b[0m\u001b[0m_get_obs\u001b[0m\u001b[0;34m(\u001b[0m\u001b[0;34m)\u001b[0m\u001b[0;34m\u001b[0m\u001b[0;34m\u001b[0m\u001b[0m\n\u001b[1;32m     97\u001b[0m \u001b[0;34m\u001b[0m\u001b[0m\n",
      "\u001b[0;32m~/anaconda3/lib/python3.6/site-packages/atari_py/ale_python_interface.py\u001b[0m in \u001b[0;36mact\u001b[0;34m(self, action)\u001b[0m\n\u001b[1;32m    138\u001b[0m \u001b[0;34m\u001b[0m\u001b[0m\n\u001b[1;32m    139\u001b[0m     \u001b[0;32mdef\u001b[0m \u001b[0mact\u001b[0m\u001b[0;34m(\u001b[0m\u001b[0mself\u001b[0m\u001b[0;34m,\u001b[0m \u001b[0maction\u001b[0m\u001b[0;34m)\u001b[0m\u001b[0;34m:\u001b[0m\u001b[0;34m\u001b[0m\u001b[0;34m\u001b[0m\u001b[0m\n\u001b[0;32m--> 140\u001b[0;31m         \u001b[0;32mreturn\u001b[0m \u001b[0male_lib\u001b[0m\u001b[0;34m.\u001b[0m\u001b[0mact\u001b[0m\u001b[0;34m(\u001b[0m\u001b[0mself\u001b[0m\u001b[0;34m.\u001b[0m\u001b[0mobj\u001b[0m\u001b[0;34m,\u001b[0m \u001b[0mint\u001b[0m\u001b[0;34m(\u001b[0m\u001b[0maction\u001b[0m\u001b[0;34m)\u001b[0m\u001b[0;34m)\u001b[0m\u001b[0;34m\u001b[0m\u001b[0;34m\u001b[0m\u001b[0m\n\u001b[0m\u001b[1;32m    141\u001b[0m \u001b[0;34m\u001b[0m\u001b[0m\n\u001b[1;32m    142\u001b[0m     \u001b[0;32mdef\u001b[0m \u001b[0mgame_over\u001b[0m\u001b[0;34m(\u001b[0m\u001b[0mself\u001b[0m\u001b[0;34m)\u001b[0m\u001b[0;34m:\u001b[0m\u001b[0;34m\u001b[0m\u001b[0;34m\u001b[0m\u001b[0m\n",
      "\u001b[0;31mKeyboardInterrupt\u001b[0m: "
     ]
    }
   ],
   "source": [
    "episodes_eval = 60\n",
    "agent_bench = DQNAgent()\n",
    "benchmark = Train(env, agent_bench)\n",
    "\n",
    "# Evaluate performance\n",
    "benchmark.train(episodes_eval, learn=False, render=False)\n",
    "\n",
    "# Plot rewards\n",
    "benchmark.plot_rewards()"
   ]
  },
  {
   "cell_type": "markdown",
   "metadata": {},
   "source": [
    "## Training"
   ]
  },
  {
   "cell_type": "code",
   "execution_count": 10,
   "metadata": {},
   "outputs": [
    {
     "name": "stderr",
     "output_type": "stream",
     "text": [
      "\n",
      "  0%|          | 0/700 [00:00<?, ?it/s]\u001b[A\n",
      "episode: 1, score: 5.0:   0%|          | 0/700 [00:00<?, ?it/s]\u001b[A\n",
      "episode: 1, score: 5.0:   0%|          | 1/700 [00:02<34:26,  2.96s/it]\u001b[A\n",
      "episode: 2, score: 2.0:   0%|          | 1/700 [00:03<34:26,  2.96s/it]\u001b[A"
     ]
    },
    {
     "ename": "KeyboardInterrupt",
     "evalue": "",
     "output_type": "error",
     "traceback": [
      "\u001b[0;31m---------------------------------------------------------------------------\u001b[0m",
      "\u001b[0;31mKeyboardInterrupt\u001b[0m                         Traceback (most recent call last)",
      "\u001b[0;32m<ipython-input-10-531ea6698301>\u001b[0m in \u001b[0;36m<module>\u001b[0;34m\u001b[0m\n\u001b[1;32m      4\u001b[0m \u001b[0mtrain\u001b[0m \u001b[0;34m=\u001b[0m \u001b[0mTrain\u001b[0m\u001b[0;34m(\u001b[0m\u001b[0menv\u001b[0m\u001b[0;34m,\u001b[0m \u001b[0magent_train\u001b[0m\u001b[0;34m)\u001b[0m\u001b[0;34m\u001b[0m\u001b[0;34m\u001b[0m\u001b[0m\n\u001b[1;32m      5\u001b[0m \u001b[0;31m# Train the agent\u001b[0m\u001b[0;34m\u001b[0m\u001b[0;34m\u001b[0m\u001b[0;34m\u001b[0m\u001b[0m\n\u001b[0;32m----> 6\u001b[0;31m \u001b[0mtrain\u001b[0m\u001b[0;34m.\u001b[0m\u001b[0mtrain\u001b[0m\u001b[0;34m(\u001b[0m\u001b[0mepisodes_train\u001b[0m\u001b[0;34m,\u001b[0m \u001b[0mlearn\u001b[0m\u001b[0;34m=\u001b[0m\u001b[0;32mTrue\u001b[0m\u001b[0;34m,\u001b[0m \u001b[0mrender\u001b[0m\u001b[0;34m=\u001b[0m\u001b[0;32mFalse\u001b[0m\u001b[0;34m)\u001b[0m\u001b[0;34m\u001b[0m\u001b[0;34m\u001b[0m\u001b[0m\n\u001b[0m\u001b[1;32m      7\u001b[0m \u001b[0;34m\u001b[0m\u001b[0m\n\u001b[1;32m      8\u001b[0m \u001b[0;31m# Plot rewards\u001b[0m\u001b[0;34m\u001b[0m\u001b[0;34m\u001b[0m\u001b[0;34m\u001b[0m\u001b[0m\n",
      "\u001b[0;32m~/Desktop/ML_nanodegree_udacity/projects/capstone_project/dqn/train.py\u001b[0m in \u001b[0;36mtrain\u001b[0;34m(self, episodes, learn, render)\u001b[0m\n\u001b[1;32m     44\u001b[0m       \u001b[0;32mif\u001b[0m \u001b[0mlearn\u001b[0m\u001b[0;34m:\u001b[0m\u001b[0;34m\u001b[0m\u001b[0;34m\u001b[0m\u001b[0m\n\u001b[1;32m     45\u001b[0m         \u001b[0;31m# train the agent with the experience of the episode\u001b[0m\u001b[0;34m\u001b[0m\u001b[0;34m\u001b[0m\u001b[0;34m\u001b[0m\u001b[0m\n\u001b[0;32m---> 46\u001b[0;31m         \u001b[0mself\u001b[0m\u001b[0;34m.\u001b[0m\u001b[0magent\u001b[0m\u001b[0;34m.\u001b[0m\u001b[0mlearn\u001b[0m\u001b[0;34m(\u001b[0m\u001b[0;34m)\u001b[0m\u001b[0;34m\u001b[0m\u001b[0;34m\u001b[0m\u001b[0m\n\u001b[0m\u001b[1;32m     47\u001b[0m \u001b[0;34m\u001b[0m\u001b[0m\n\u001b[1;32m     48\u001b[0m   \u001b[0;32mdef\u001b[0m \u001b[0mplot_rewards\u001b[0m\u001b[0;34m(\u001b[0m\u001b[0mself\u001b[0m\u001b[0;34m)\u001b[0m\u001b[0;34m:\u001b[0m\u001b[0;34m\u001b[0m\u001b[0;34m\u001b[0m\u001b[0m\n",
      "\u001b[0;32m~/Desktop/ML_nanodegree_udacity/projects/capstone_project/dqn/dqnAgent.py\u001b[0m in \u001b[0;36mlearn\u001b[0;34m(self)\u001b[0m\n\u001b[1;32m     69\u001b[0m       \u001b[0mtarget_f\u001b[0m\u001b[0;34m[\u001b[0m\u001b[0;36m0\u001b[0m\u001b[0;34m]\u001b[0m\u001b[0;34m[\u001b[0m\u001b[0maction\u001b[0m\u001b[0;34m]\u001b[0m \u001b[0;34m=\u001b[0m \u001b[0mtarget\u001b[0m\u001b[0;34m\u001b[0m\u001b[0;34m\u001b[0m\u001b[0m\n\u001b[1;32m     70\u001b[0m \u001b[0;34m\u001b[0m\u001b[0m\n\u001b[0;32m---> 71\u001b[0;31m       \u001b[0mself\u001b[0m\u001b[0;34m.\u001b[0m\u001b[0mmodel\u001b[0m\u001b[0;34m.\u001b[0m\u001b[0mfit\u001b[0m\u001b[0;34m(\u001b[0m\u001b[0mstate\u001b[0m\u001b[0;34m,\u001b[0m \u001b[0mtarget_f\u001b[0m\u001b[0;34m,\u001b[0m \u001b[0mepochs\u001b[0m\u001b[0;34m=\u001b[0m\u001b[0;36m1\u001b[0m\u001b[0;34m,\u001b[0m \u001b[0mverbose\u001b[0m\u001b[0;34m=\u001b[0m\u001b[0;36m0\u001b[0m\u001b[0;34m)\u001b[0m\u001b[0;34m\u001b[0m\u001b[0;34m\u001b[0m\u001b[0m\n\u001b[0m\u001b[1;32m     72\u001b[0m       \u001b[0mself\u001b[0m\u001b[0;34m.\u001b[0m\u001b[0mupdate_model_f\u001b[0m\u001b[0;34m(\u001b[0m\u001b[0;34m)\u001b[0m\u001b[0;34m\u001b[0m\u001b[0;34m\u001b[0m\u001b[0m\n\u001b[1;32m     73\u001b[0m \u001b[0;34m\u001b[0m\u001b[0m\n",
      "\u001b[0;32m~/anaconda3/lib/python3.6/site-packages/keras/engine/training.py\u001b[0m in \u001b[0;36mfit\u001b[0;34m(self, x, y, batch_size, epochs, verbose, callbacks, validation_split, validation_data, shuffle, class_weight, sample_weight, initial_epoch, steps_per_epoch, validation_steps, **kwargs)\u001b[0m\n\u001b[1;32m   1037\u001b[0m                                         \u001b[0minitial_epoch\u001b[0m\u001b[0;34m=\u001b[0m\u001b[0minitial_epoch\u001b[0m\u001b[0;34m,\u001b[0m\u001b[0;34m\u001b[0m\u001b[0;34m\u001b[0m\u001b[0m\n\u001b[1;32m   1038\u001b[0m                                         \u001b[0msteps_per_epoch\u001b[0m\u001b[0;34m=\u001b[0m\u001b[0msteps_per_epoch\u001b[0m\u001b[0;34m,\u001b[0m\u001b[0;34m\u001b[0m\u001b[0;34m\u001b[0m\u001b[0m\n\u001b[0;32m-> 1039\u001b[0;31m                                         validation_steps=validation_steps)\n\u001b[0m\u001b[1;32m   1040\u001b[0m \u001b[0;34m\u001b[0m\u001b[0m\n\u001b[1;32m   1041\u001b[0m     def evaluate(self, x=None, y=None,\n",
      "\u001b[0;32m~/anaconda3/lib/python3.6/site-packages/keras/engine/training_arrays.py\u001b[0m in \u001b[0;36mfit_loop\u001b[0;34m(model, f, ins, out_labels, batch_size, epochs, verbose, callbacks, val_f, val_ins, shuffle, callback_metrics, initial_epoch, steps_per_epoch, validation_steps)\u001b[0m\n\u001b[1;32m    197\u001b[0m                     \u001b[0mins_batch\u001b[0m\u001b[0;34m[\u001b[0m\u001b[0mi\u001b[0m\u001b[0;34m]\u001b[0m \u001b[0;34m=\u001b[0m \u001b[0mins_batch\u001b[0m\u001b[0;34m[\u001b[0m\u001b[0mi\u001b[0m\u001b[0;34m]\u001b[0m\u001b[0;34m.\u001b[0m\u001b[0mtoarray\u001b[0m\u001b[0;34m(\u001b[0m\u001b[0;34m)\u001b[0m\u001b[0;34m\u001b[0m\u001b[0;34m\u001b[0m\u001b[0m\n\u001b[1;32m    198\u001b[0m \u001b[0;34m\u001b[0m\u001b[0m\n\u001b[0;32m--> 199\u001b[0;31m                 \u001b[0mouts\u001b[0m \u001b[0;34m=\u001b[0m \u001b[0mf\u001b[0m\u001b[0;34m(\u001b[0m\u001b[0mins_batch\u001b[0m\u001b[0;34m)\u001b[0m\u001b[0;34m\u001b[0m\u001b[0;34m\u001b[0m\u001b[0m\n\u001b[0m\u001b[1;32m    200\u001b[0m                 \u001b[0mouts\u001b[0m \u001b[0;34m=\u001b[0m \u001b[0mto_list\u001b[0m\u001b[0;34m(\u001b[0m\u001b[0mouts\u001b[0m\u001b[0;34m)\u001b[0m\u001b[0;34m\u001b[0m\u001b[0;34m\u001b[0m\u001b[0m\n\u001b[1;32m    201\u001b[0m                 \u001b[0;32mfor\u001b[0m \u001b[0ml\u001b[0m\u001b[0;34m,\u001b[0m \u001b[0mo\u001b[0m \u001b[0;32min\u001b[0m \u001b[0mzip\u001b[0m\u001b[0;34m(\u001b[0m\u001b[0mout_labels\u001b[0m\u001b[0;34m,\u001b[0m \u001b[0mouts\u001b[0m\u001b[0;34m)\u001b[0m\u001b[0;34m:\u001b[0m\u001b[0;34m\u001b[0m\u001b[0;34m\u001b[0m\u001b[0m\n",
      "\u001b[0;32m~/anaconda3/lib/python3.6/site-packages/keras/backend/tensorflow_backend.py\u001b[0m in \u001b[0;36m__call__\u001b[0;34m(self, inputs)\u001b[0m\n\u001b[1;32m   2713\u001b[0m                 \u001b[0;32mreturn\u001b[0m \u001b[0mself\u001b[0m\u001b[0;34m.\u001b[0m\u001b[0m_legacy_call\u001b[0m\u001b[0;34m(\u001b[0m\u001b[0minputs\u001b[0m\u001b[0;34m)\u001b[0m\u001b[0;34m\u001b[0m\u001b[0;34m\u001b[0m\u001b[0m\n\u001b[1;32m   2714\u001b[0m \u001b[0;34m\u001b[0m\u001b[0m\n\u001b[0;32m-> 2715\u001b[0;31m             \u001b[0;32mreturn\u001b[0m \u001b[0mself\u001b[0m\u001b[0;34m.\u001b[0m\u001b[0m_call\u001b[0m\u001b[0;34m(\u001b[0m\u001b[0minputs\u001b[0m\u001b[0;34m)\u001b[0m\u001b[0;34m\u001b[0m\u001b[0;34m\u001b[0m\u001b[0m\n\u001b[0m\u001b[1;32m   2716\u001b[0m         \u001b[0;32melse\u001b[0m\u001b[0;34m:\u001b[0m\u001b[0;34m\u001b[0m\u001b[0;34m\u001b[0m\u001b[0m\n\u001b[1;32m   2717\u001b[0m             \u001b[0;32mif\u001b[0m \u001b[0mpy_any\u001b[0m\u001b[0;34m(\u001b[0m\u001b[0mis_tensor\u001b[0m\u001b[0;34m(\u001b[0m\u001b[0mx\u001b[0m\u001b[0;34m)\u001b[0m \u001b[0;32mfor\u001b[0m \u001b[0mx\u001b[0m \u001b[0;32min\u001b[0m \u001b[0minputs\u001b[0m\u001b[0;34m)\u001b[0m\u001b[0;34m:\u001b[0m\u001b[0;34m\u001b[0m\u001b[0;34m\u001b[0m\u001b[0m\n",
      "\u001b[0;32m~/anaconda3/lib/python3.6/site-packages/keras/backend/tensorflow_backend.py\u001b[0m in \u001b[0;36m_call\u001b[0;34m(self, inputs)\u001b[0m\n\u001b[1;32m   2673\u001b[0m             \u001b[0mfetched\u001b[0m \u001b[0;34m=\u001b[0m \u001b[0mself\u001b[0m\u001b[0;34m.\u001b[0m\u001b[0m_callable_fn\u001b[0m\u001b[0;34m(\u001b[0m\u001b[0;34m*\u001b[0m\u001b[0marray_vals\u001b[0m\u001b[0;34m,\u001b[0m \u001b[0mrun_metadata\u001b[0m\u001b[0;34m=\u001b[0m\u001b[0mself\u001b[0m\u001b[0;34m.\u001b[0m\u001b[0mrun_metadata\u001b[0m\u001b[0;34m)\u001b[0m\u001b[0;34m\u001b[0m\u001b[0;34m\u001b[0m\u001b[0m\n\u001b[1;32m   2674\u001b[0m         \u001b[0;32melse\u001b[0m\u001b[0;34m:\u001b[0m\u001b[0;34m\u001b[0m\u001b[0;34m\u001b[0m\u001b[0m\n\u001b[0;32m-> 2675\u001b[0;31m             \u001b[0mfetched\u001b[0m \u001b[0;34m=\u001b[0m \u001b[0mself\u001b[0m\u001b[0;34m.\u001b[0m\u001b[0m_callable_fn\u001b[0m\u001b[0;34m(\u001b[0m\u001b[0;34m*\u001b[0m\u001b[0marray_vals\u001b[0m\u001b[0;34m)\u001b[0m\u001b[0;34m\u001b[0m\u001b[0;34m\u001b[0m\u001b[0m\n\u001b[0m\u001b[1;32m   2676\u001b[0m         \u001b[0;32mreturn\u001b[0m \u001b[0mfetched\u001b[0m\u001b[0;34m[\u001b[0m\u001b[0;34m:\u001b[0m\u001b[0mlen\u001b[0m\u001b[0;34m(\u001b[0m\u001b[0mself\u001b[0m\u001b[0;34m.\u001b[0m\u001b[0moutputs\u001b[0m\u001b[0;34m)\u001b[0m\u001b[0;34m]\u001b[0m\u001b[0;34m\u001b[0m\u001b[0;34m\u001b[0m\u001b[0m\n\u001b[1;32m   2677\u001b[0m \u001b[0;34m\u001b[0m\u001b[0m\n",
      "\u001b[0;32m~/anaconda3/lib/python3.6/site-packages/tensorflow/python/client/session.py\u001b[0m in \u001b[0;36m__call__\u001b[0;34m(self, *args)\u001b[0m\n\u001b[1;32m   1449\u001b[0m         \u001b[0;32mif\u001b[0m \u001b[0mself\u001b[0m\u001b[0;34m.\u001b[0m\u001b[0m_session\u001b[0m\u001b[0;34m.\u001b[0m\u001b[0m_created_with_new_api\u001b[0m\u001b[0;34m:\u001b[0m\u001b[0;34m\u001b[0m\u001b[0;34m\u001b[0m\u001b[0m\n\u001b[1;32m   1450\u001b[0m           return tf_session.TF_SessionRunCallable(\n\u001b[0;32m-> 1451\u001b[0;31m               self._session._session, self._handle, args, status, None)\n\u001b[0m\u001b[1;32m   1452\u001b[0m         \u001b[0;32melse\u001b[0m\u001b[0;34m:\u001b[0m\u001b[0;34m\u001b[0m\u001b[0;34m\u001b[0m\u001b[0m\n\u001b[1;32m   1453\u001b[0m           return tf_session.TF_DeprecatedSessionRunCallable(\n",
      "\u001b[0;31mKeyboardInterrupt\u001b[0m: "
     ]
    }
   ],
   "source": [
    "episodes_train = 700\n",
    "agent_train = DQNAgent()\n",
    "\n",
    "train = Train(env, agent_train)\n",
    "# Train the agent\n",
    "train.train(episodes_train, learn=True, render=False)\n",
    "\n",
    "# Plot rewards\n",
    "train.plot_rewards()"
   ]
  },
  {
   "cell_type": "code",
   "execution_count": 11,
   "metadata": {},
   "outputs": [
    {
     "name": "stderr",
     "output_type": "stream",
     "text": [
      "\n",
      "\n",
      "  0%|          | 0/60 [00:00<?, ?it/s]\u001b[A\u001b[A\n",
      "\n",
      "episode: 1, score: 18.0:   0%|          | 0/60 [00:00<?, ?it/s]\u001b[A\u001b[A\n",
      "\n",
      "episode: 1, score: 18.0:   2%|▏         | 1/60 [00:00<00:27,  2.12it/s]\u001b[A\u001b[A\n",
      "\n",
      "episode: 2, score: 14.0:   2%|▏         | 1/60 [00:01<00:27,  2.12it/s]\u001b[A\u001b[A\n",
      "\n",
      "episode: 2, score: 14.0:   3%|▎         | 2/60 [00:01<00:30,  1.88it/s]\u001b[A\u001b[A\n",
      "\n",
      "episode: 3, score: 5.0:   3%|▎         | 2/60 [00:01<00:30,  1.88it/s] \u001b[A\u001b[A\n",
      "\n",
      "episode: 3, score: 5.0:   5%|▌         | 3/60 [00:01<00:25,  2.24it/s]\u001b[A\u001b[A\n",
      "\n",
      "episode: 4, score: 9.0:   5%|▌         | 3/60 [00:01<00:25,  2.24it/s]\u001b[A\u001b[A\n",
      "\n",
      "episode: 4, score: 9.0:   7%|▋         | 4/60 [00:01<00:23,  2.39it/s]\u001b[A\u001b[A\n",
      "\n",
      "episode: 5, score: 21.0:   7%|▋         | 4/60 [00:02<00:23,  2.39it/s]\u001b[A\u001b[A\n",
      "\n",
      "episode: 5, score: 21.0:   8%|▊         | 5/60 [00:02<00:26,  2.07it/s]\u001b[A\u001b[A\n",
      "\n",
      "episode: 6, score: 19.0:   8%|▊         | 5/60 [00:02<00:26,  2.07it/s]\u001b[A\u001b[A\n",
      "\n",
      "episode: 6, score: 19.0:  10%|█         | 6/60 [00:02<00:25,  2.13it/s]\u001b[A\u001b[A\n",
      "\n",
      "episode: 7, score: 23.0:  10%|█         | 6/60 [00:03<00:25,  2.13it/s]\u001b[A\u001b[A\n",
      "\n",
      "episode: 7, score: 23.0:  12%|█▏        | 7/60 [00:03<00:27,  1.89it/s]\u001b[A\u001b[A\n",
      "\n",
      "episode: 8, score: 13.0:  12%|█▏        | 7/60 [00:03<00:27,  1.89it/s]\u001b[A\u001b[A\n",
      "\n",
      "episode: 8, score: 13.0:  13%|█▎        | 8/60 [00:03<00:25,  2.02it/s]\u001b[A\u001b[A\n",
      "\n",
      "episode: 9, score: 6.0:  13%|█▎        | 8/60 [00:04<00:25,  2.02it/s] \u001b[A\u001b[A\n",
      "\n",
      "episode: 9, score: 6.0:  15%|█▌        | 9/60 [00:04<00:22,  2.30it/s]\u001b[A\u001b[A\n",
      "\n",
      "episode: 10, score: 14.0:  15%|█▌        | 9/60 [00:04<00:22,  2.30it/s]\u001b[A\u001b[A\n",
      "\n",
      "episode: 10, score: 14.0:  17%|█▋        | 10/60 [00:04<00:23,  2.10it/s]\u001b[A\u001b[A\n",
      "\n",
      "episode: 11, score: 9.0:  17%|█▋        | 10/60 [00:05<00:23,  2.10it/s] \u001b[A\u001b[A\n",
      "\n",
      "episode: 11, score: 9.0:  18%|█▊        | 11/60 [00:05<00:21,  2.33it/s]\u001b[A\u001b[A\n",
      "\n",
      "episode: 12, score: 11.0:  18%|█▊        | 11/60 [00:05<00:21,  2.33it/s]\u001b[A\u001b[A\n",
      "\n",
      "episode: 12, score: 11.0:  20%|██        | 12/60 [00:05<00:19,  2.51it/s]\u001b[A\u001b[A\n",
      "\n",
      "episode: 13, score: 7.0:  20%|██        | 12/60 [00:05<00:19,  2.51it/s] \u001b[A\u001b[A\n",
      "\n",
      "episode: 13, score: 7.0:  22%|██▏       | 13/60 [00:05<00:17,  2.61it/s]\u001b[A\u001b[A\n",
      "\n",
      "episode: 14, score: 11.0:  22%|██▏       | 13/60 [00:06<00:17,  2.61it/s]\u001b[A\u001b[A\n",
      "\n",
      "episode: 14, score: 11.0:  23%|██▎       | 14/60 [00:06<00:17,  2.64it/s]\u001b[A\u001b[A\n",
      "\n",
      "episode: 15, score: 3.0:  23%|██▎       | 14/60 [00:06<00:17,  2.64it/s] \u001b[A\u001b[A\n",
      "\n",
      "episode: 15, score: 3.0:  25%|██▌       | 15/60 [00:06<00:15,  2.89it/s]\u001b[A\u001b[A\n",
      "\n",
      "episode: 16, score: 4.0:  25%|██▌       | 15/60 [00:06<00:15,  2.89it/s]\u001b[A\u001b[A\n",
      "\n",
      "episode: 16, score: 4.0:  27%|██▋       | 16/60 [00:06<00:13,  3.36it/s]\u001b[A\u001b[A\n",
      "\n",
      "episode: 17, score: 7.0:  27%|██▋       | 16/60 [00:06<00:13,  3.36it/s]\u001b[A\u001b[A\n",
      "\n",
      "episode: 17, score: 7.0:  28%|██▊       | 17/60 [00:06<00:13,  3.18it/s]\u001b[A\u001b[A\n",
      "\n",
      "episode: 18, score: 11.0:  28%|██▊       | 17/60 [00:07<00:13,  3.18it/s]\u001b[A\u001b[A\n",
      "\n",
      "episode: 18, score: 11.0:  30%|███       | 18/60 [00:07<00:14,  2.87it/s]\u001b[A\u001b[A\n",
      "\n",
      "episode: 19, score: 11.0:  30%|███       | 18/60 [00:07<00:14,  2.87it/s]\u001b[A\u001b[A\n",
      "\n",
      "episode: 19, score: 11.0:  32%|███▏      | 19/60 [00:07<00:13,  2.95it/s]\u001b[A\u001b[A\n",
      "\n",
      "episode: 20, score: 17.0:  32%|███▏      | 19/60 [00:08<00:13,  2.95it/s]\u001b[A\u001b[A\n",
      "\n",
      "episode: 20, score: 17.0:  33%|███▎      | 20/60 [00:08<00:14,  2.74it/s]\u001b[A\u001b[A\n",
      "\n",
      "episode: 21, score: 4.0:  33%|███▎      | 20/60 [00:08<00:14,  2.74it/s] \u001b[A\u001b[A\n",
      "\n",
      "episode: 21, score: 4.0:  35%|███▌      | 21/60 [00:08<00:12,  3.17it/s]\u001b[A\u001b[A\n",
      "\n",
      "episode: 22, score: 11.0:  35%|███▌      | 21/60 [00:08<00:12,  3.17it/s]\u001b[A\u001b[A\n",
      "\n",
      "episode: 22, score: 11.0:  37%|███▋      | 22/60 [00:08<00:12,  3.02it/s]\u001b[A\u001b[A\n",
      "\n",
      "episode: 23, score: 20.0:  37%|███▋      | 22/60 [00:09<00:12,  3.02it/s]\u001b[A\u001b[A\n",
      "\n",
      "episode: 23, score: 20.0:  38%|███▊      | 23/60 [00:09<00:14,  2.60it/s]\u001b[A\u001b[A\n",
      "\n",
      "episode: 24, score: 19.0:  38%|███▊      | 23/60 [00:09<00:14,  2.60it/s]\u001b[A\u001b[A\n",
      "\n",
      "episode: 24, score: 19.0:  40%|████      | 24/60 [00:09<00:16,  2.16it/s]\u001b[A\u001b[A\n",
      "\n",
      "episode: 25, score: 11.0:  40%|████      | 24/60 [00:10<00:16,  2.16it/s]\u001b[A\u001b[A\n",
      "\n",
      "episode: 25, score: 11.0:  42%|████▏     | 25/60 [00:10<00:16,  2.16it/s]\u001b[A\u001b[A\n",
      "\n",
      "episode: 26, score: 4.0:  42%|████▏     | 25/60 [00:10<00:16,  2.16it/s] \u001b[A\u001b[A\n",
      "\n",
      "episode: 26, score: 4.0:  43%|████▎     | 26/60 [00:10<00:13,  2.47it/s]\u001b[A\u001b[A\n",
      "\n",
      "episode: 27, score: 15.0:  43%|████▎     | 26/60 [00:11<00:13,  2.47it/s]\u001b[A\u001b[A\n",
      "\n",
      "episode: 27, score: 15.0:  45%|████▌     | 27/60 [00:11<00:14,  2.22it/s]\u001b[A\u001b[A\n",
      "\n",
      "episode: 28, score: 6.0:  45%|████▌     | 27/60 [00:11<00:14,  2.22it/s] \u001b[A\u001b[A\n",
      "\n",
      "episode: 28, score: 6.0:  47%|████▋     | 28/60 [00:11<00:12,  2.52it/s]\u001b[A\u001b[A\n",
      "\n",
      "episode: 29, score: 6.0:  47%|████▋     | 28/60 [00:11<00:12,  2.52it/s]\u001b[A\u001b[A\n",
      "\n",
      "episode: 29, score: 6.0:  48%|████▊     | 29/60 [00:11<00:11,  2.58it/s]\u001b[A\u001b[A\n",
      "\n",
      "episode: 30, score: 6.0:  48%|████▊     | 29/60 [00:12<00:11,  2.58it/s]\u001b[A\u001b[A\n",
      "\n",
      "episode: 30, score: 6.0:  50%|█████     | 30/60 [00:12<00:10,  2.83it/s]\u001b[A\u001b[A\n",
      "\n",
      "episode: 31, score: 9.0:  50%|█████     | 30/60 [00:12<00:10,  2.83it/s]\u001b[A\u001b[A\n",
      "\n",
      "episode: 31, score: 9.0:  52%|█████▏    | 31/60 [00:12<00:10,  2.87it/s]\u001b[A\u001b[A\n",
      "\n",
      "episode: 32, score: 4.0:  52%|█████▏    | 31/60 [00:12<00:10,  2.87it/s]\u001b[A\u001b[A\n",
      "\n",
      "episode: 32, score: 4.0:  53%|█████▎    | 32/60 [00:12<00:08,  3.29it/s]\u001b[A\u001b[A\n",
      "\n",
      "episode: 33, score: 5.0:  53%|█████▎    | 32/60 [00:12<00:08,  3.29it/s]\u001b[A\u001b[A\n",
      "\n",
      "episode: 33, score: 5.0:  55%|█████▌    | 33/60 [00:12<00:07,  3.38it/s]\u001b[A\u001b[A\n",
      "\n",
      "episode: 34, score: 5.0:  55%|█████▌    | 33/60 [00:13<00:07,  3.38it/s]\u001b[A\u001b[A\n",
      "\n",
      "episode: 34, score: 5.0:  57%|█████▋    | 34/60 [00:13<00:06,  3.78it/s]\u001b[A\u001b[A\n",
      "\n",
      "episode: 35, score: 8.0:  57%|█████▋    | 34/60 [00:13<00:06,  3.78it/s]\u001b[A\u001b[A\n",
      "\n",
      "episode: 35, score: 8.0:  58%|█████▊    | 35/60 [00:13<00:07,  3.41it/s]\u001b[A\u001b[A\n",
      "\n",
      "episode: 36, score: 14.0:  58%|█████▊    | 35/60 [00:13<00:07,  3.41it/s]\u001b[A\u001b[A\n",
      "\n",
      "episode: 36, score: 14.0:  60%|██████    | 36/60 [00:13<00:08,  2.95it/s]\u001b[A\u001b[A\n",
      "\n",
      "episode: 37, score: 6.0:  60%|██████    | 36/60 [00:14<00:08,  2.95it/s] \u001b[A\u001b[A\n",
      "\n",
      "episode: 37, score: 6.0:  62%|██████▏   | 37/60 [00:14<00:07,  3.09it/s]\u001b[A\u001b[A\n",
      "\n",
      "episode: 38, score: 5.0:  62%|██████▏   | 37/60 [00:14<00:07,  3.09it/s]\u001b[A\u001b[A\n",
      "\n",
      "episode: 38, score: 5.0:  63%|██████▎   | 38/60 [00:14<00:07,  2.99it/s]\u001b[A\u001b[A\n",
      "\n",
      "episode: 39, score: 11.0:  63%|██████▎   | 38/60 [00:14<00:07,  2.99it/s]\u001b[A\u001b[A\n",
      "\n",
      "episode: 39, score: 11.0:  65%|██████▌   | 39/60 [00:14<00:07,  2.87it/s]\u001b[A\u001b[A\n",
      "\n",
      "episode: 40, score: 11.0:  65%|██████▌   | 39/60 [00:15<00:07,  2.87it/s]\u001b[A\u001b[A\n",
      "\n",
      "episode: 40, score: 11.0:  67%|██████▋   | 40/60 [00:15<00:07,  2.72it/s]\u001b[A\u001b[A\n",
      "\n",
      "episode: 41, score: 3.0:  67%|██████▋   | 40/60 [00:15<00:07,  2.72it/s] \u001b[A\u001b[A\n",
      "\n",
      "episode: 41, score: 3.0:  68%|██████▊   | 41/60 [00:15<00:06,  2.84it/s]\u001b[A\u001b[A\n",
      "\n",
      "episode: 42, score: 12.0:  68%|██████▊   | 41/60 [00:15<00:06,  2.84it/s]\u001b[A\u001b[A\n",
      "\n",
      "episode: 42, score: 12.0:  70%|███████   | 42/60 [00:15<00:06,  2.87it/s]\u001b[A\u001b[A\n",
      "\n",
      "episode: 43, score: 10.0:  70%|███████   | 42/60 [00:16<00:06,  2.87it/s]\u001b[A\u001b[A\n",
      "\n",
      "episode: 43, score: 10.0:  72%|███████▏  | 43/60 [00:16<00:06,  2.82it/s]\u001b[A\u001b[A\n",
      "\n",
      "episode: 44, score: 11.0:  72%|███████▏  | 43/60 [00:16<00:06,  2.82it/s]\u001b[A\u001b[A\n",
      "\n",
      "episode: 44, score: 11.0:  73%|███████▎  | 44/60 [00:16<00:05,  2.97it/s]\u001b[A\u001b[A\n",
      "\n",
      "episode: 45, score: 13.0:  73%|███████▎  | 44/60 [00:17<00:05,  2.97it/s]\u001b[A\u001b[A\n",
      "\n",
      "episode: 45, score: 13.0:  75%|███████▌  | 45/60 [00:17<00:06,  2.37it/s]\u001b[A\u001b[A\n",
      "\n",
      "episode: 46, score: 9.0:  75%|███████▌  | 45/60 [00:17<00:06,  2.37it/s] \u001b[A\u001b[A\n",
      "\n",
      "episode: 46, score: 9.0:  77%|███████▋  | 46/60 [00:17<00:06,  2.33it/s]\u001b[A\u001b[A\n",
      "\n",
      "episode: 47, score: 10.0:  77%|███████▋  | 46/60 [00:17<00:06,  2.33it/s]\u001b[A\u001b[A\n",
      "\n",
      "episode: 47, score: 10.0:  78%|███████▊  | 47/60 [00:17<00:04,  2.60it/s]\u001b[A\u001b[A\n",
      "\n",
      "episode: 48, score: 4.0:  78%|███████▊  | 47/60 [00:18<00:04,  2.60it/s] \u001b[A\u001b[A\n",
      "\n",
      "episode: 48, score: 4.0:  80%|████████  | 48/60 [00:18<00:04,  2.99it/s]\u001b[A\u001b[A\n",
      "\n",
      "episode: 49, score: 7.0:  80%|████████  | 48/60 [00:18<00:04,  2.99it/s]\u001b[A\u001b[A\n",
      "\n",
      "episode: 49, score: 7.0:  82%|████████▏ | 49/60 [00:18<00:03,  3.15it/s]\u001b[A\u001b[A\n",
      "\n",
      "episode: 50, score: 4.0:  82%|████████▏ | 49/60 [00:18<00:03,  3.15it/s]\u001b[A\u001b[A\n",
      "\n",
      "episode: 50, score: 4.0:  83%|████████▎ | 50/60 [00:18<00:03,  3.19it/s]\u001b[A\u001b[A\n",
      "\n",
      "episode: 51, score: 8.0:  83%|████████▎ | 50/60 [00:19<00:03,  3.19it/s]\u001b[A\u001b[A\n",
      "\n"
     ]
    },
    {
     "name": "stderr",
     "output_type": "stream",
     "text": [
      "episode: 51, score: 8.0:  85%|████████▌ | 51/60 [00:19<00:03,  2.83it/s]\u001b[A\u001b[A\n",
      "\n",
      "episode: 52, score: 29.0:  85%|████████▌ | 51/60 [00:20<00:03,  2.83it/s]\u001b[A\u001b[A\n",
      "\n",
      "episode: 52, score: 29.0:  87%|████████▋ | 52/60 [00:20<00:03,  2.03it/s]\u001b[A\u001b[A\n",
      "\n",
      "episode: 53, score: 8.0:  87%|████████▋ | 52/60 [00:20<00:03,  2.03it/s] \u001b[A\u001b[A\n",
      "\n",
      "episode: 53, score: 8.0:  88%|████████▊ | 53/60 [00:20<00:03,  2.21it/s]\u001b[A\u001b[A\n",
      "\n",
      "episode: 54, score: 11.0:  88%|████████▊ | 53/60 [00:20<00:03,  2.21it/s]\u001b[A\u001b[A\n",
      "\n",
      "episode: 54, score: 11.0:  90%|█████████ | 54/60 [00:20<00:02,  2.13it/s]\u001b[A\u001b[A\n",
      "\n",
      "episode: 55, score: 16.0:  90%|█████████ | 54/60 [00:21<00:02,  2.13it/s]\u001b[A\u001b[A\n",
      "\n",
      "episode: 55, score: 16.0:  92%|█████████▏| 55/60 [00:21<00:02,  2.07it/s]\u001b[A\u001b[A\n",
      "\n",
      "episode: 56, score: 5.0:  92%|█████████▏| 55/60 [00:21<00:02,  2.07it/s] \u001b[A\u001b[A\n",
      "\n",
      "episode: 56, score: 5.0:  93%|█████████▎| 56/60 [00:21<00:01,  2.46it/s]\u001b[A\u001b[A\n",
      "\n",
      "episode: 57, score: 18.0:  93%|█████████▎| 56/60 [00:22<00:01,  2.46it/s]\u001b[A\u001b[A\n",
      "\n",
      "episode: 57, score: 18.0:  95%|█████████▌| 57/60 [00:22<00:01,  2.27it/s]\u001b[A\u001b[A\n",
      "\n",
      "episode: 58, score: 13.0:  95%|█████████▌| 57/60 [00:22<00:01,  2.27it/s]\u001b[A\u001b[A\n",
      "\n",
      "episode: 58, score: 13.0:  97%|█████████▋| 58/60 [00:22<00:00,  2.29it/s]\u001b[A\u001b[A\n",
      "\n",
      "episode: 59, score: 7.0:  97%|█████████▋| 58/60 [00:22<00:00,  2.29it/s] \u001b[A\u001b[A\n",
      "\n",
      "episode: 59, score: 7.0:  98%|█████████▊| 59/60 [00:22<00:00,  2.62it/s]\u001b[A\u001b[A\n",
      "\n",
      "episode: 60, score: 3.0:  98%|█████████▊| 59/60 [00:23<00:00,  2.62it/s]\u001b[A\u001b[A\n",
      "\n",
      "episode: 60, score: 3.0: 100%|██████████| 60/60 [00:23<00:00,  2.95it/s]\u001b[A\u001b[A"
     ]
    },
    {
     "data": {
      "image/png": "[encoded data removed]",
      "text/plain": [
       "<Figure size 432x288 with 1 Axes>"
      ]
     },
     "metadata": {
      "needs_background": "light"
     },
     "output_type": "display_data"
    }
   ],
   "source": [
    "# Evaluate the trained agent\n",
    "episodes_eval = 60\n",
    "agent_trained = train.agent\n",
    "evaluation = Train(env, agent_trained)\n",
    "\n",
    "# Evaluate performance\n",
    "evaluation.train(episodes_eval, learn=False, render=False)\n",
    "\n",
    "# Plot rewards\n",
    "evaluation.plot_rewards()"
   ]
  },
  {
   "cell_type": "code",
   "execution_count": null,
   "metadata": {},
   "outputs": [],
   "source": []
  }
 ],
 "metadata": {
  "kernelspec": {
   "display_name": "Python 3",
   "language": "python",
   "name": "python3"
  },
  "language_info": {
   "codemirror_mode": {
    "name": "ipython",
    "version": 3
   },
   "file_extension": ".py",
   "mimetype": "text/x-python",
   "name": "python",
   "nbconvert_exporter": "python",
   "pygments_lexer": "ipython3",
   "version": "3.6.8"
  }
 },
 "nbformat": 4,
 "nbformat_minor": 2
}
